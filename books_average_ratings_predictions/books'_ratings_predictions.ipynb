{
 "cells": [
  {
   "cell_type": "markdown",
   "metadata": {
    "button": false,
    "new_sheet": false,
    "run_control": {
     "read_only": false
    }
   },
   "source": [
    "### Importing Needed packages\n"
   ]
  },
  {
   "cell_type": "code",
   "execution_count": 72,
   "metadata": {
    "button": false,
    "new_sheet": false,
    "run_control": {
     "read_only": false
    }
   },
   "outputs": [],
   "source": [
    "import matplotlib.pyplot as plt\n",
    "import pandas as pd\n",
    "import pylab as pl\n",
    "import numpy as np\n",
    "import math\n",
    "import torch\n",
    "import torch.nn as nn\n",
    "from torch.autograd import Variable\n",
    "import torch.nn.functional as F\n",
    "from torchvision.transforms import ToTensor\n",
    "from torch.utils.data.dataloader import DataLoader\n",
    "from torch.utils.data import random_split\n",
    "from torch.utils.data import TensorDataset"
   ]
  },
  {
   "cell_type": "markdown",
   "metadata": {
    "button": false,
    "new_sheet": false,
    "run_control": {
     "read_only": false
    }
   },
   "source": [
    "### Downloading Data"
   ]
  },
  {
   "cell_type": "code",
   "execution_count": 73,
   "metadata": {
    "button": false,
    "new_sheet": false,
    "run_control": {
     "read_only": false
    }
   },
   "outputs": [],
   "source": [
    "# !wget -O books2.csv https://raw.githubusercontent.com/heEXDe/some_machine_learning_jupyter_notebooks/main/books2.csv"
   ]
  },
  {
   "cell_type": "markdown",
   "metadata": {
    "button": false,
    "new_sheet": false,
    "run_control": {
     "read_only": false
    }
   },
   "source": [
    "<h2 id=\"reading_data\">Reading the data in</h2>\n"
   ]
  },
  {
   "cell_type": "code",
   "execution_count": 74,
   "metadata": {
    "button": false,
    "new_sheet": false,
    "run_control": {
     "read_only": false
    }
   },
   "outputs": [
    {
     "data": {
      "text/html": [
       "<div>\n",
       "<style scoped>\n",
       "    .dataframe tbody tr th:only-of-type {\n",
       "        vertical-align: middle;\n",
       "    }\n",
       "\n",
       "    .dataframe tbody tr th {\n",
       "        vertical-align: top;\n",
       "    }\n",
       "\n",
       "    .dataframe thead th {\n",
       "        text-align: right;\n",
       "    }\n",
       "</style>\n",
       "<table border=\"1\" class=\"dataframe\">\n",
       "  <thead>\n",
       "    <tr style=\"text-align: right;\">\n",
       "      <th></th>\n",
       "      <th>bookID</th>\n",
       "      <th>title</th>\n",
       "      <th>authors</th>\n",
       "      <th>average_rating</th>\n",
       "      <th>isbn</th>\n",
       "      <th>isbn13</th>\n",
       "      <th>language_code</th>\n",
       "      <th>num_pages</th>\n",
       "      <th>ratings_count</th>\n",
       "      <th>text_reviews_count</th>\n",
       "      <th>publication_date</th>\n",
       "      <th>publisher</th>\n",
       "    </tr>\n",
       "  </thead>\n",
       "  <tbody>\n",
       "    <tr>\n",
       "      <th>0</th>\n",
       "      <td>1</td>\n",
       "      <td>Harry Potter and the Half-Blood Prince (Harry ...</td>\n",
       "      <td>J.K. Rowling/Mary GrandPré</td>\n",
       "      <td>4.57</td>\n",
       "      <td>439785960</td>\n",
       "      <td>9780439785969</td>\n",
       "      <td>eng</td>\n",
       "      <td>652</td>\n",
       "      <td>2095690</td>\n",
       "      <td>27591</td>\n",
       "      <td>9/16/2006</td>\n",
       "      <td>Scholastic Inc.</td>\n",
       "    </tr>\n",
       "    <tr>\n",
       "      <th>1</th>\n",
       "      <td>2</td>\n",
       "      <td>Harry Potter and the Order of the Phoenix (Har...</td>\n",
       "      <td>J.K. Rowling/Mary GrandPré</td>\n",
       "      <td>4.49</td>\n",
       "      <td>439358078</td>\n",
       "      <td>9780439358071</td>\n",
       "      <td>eng</td>\n",
       "      <td>870</td>\n",
       "      <td>2153167</td>\n",
       "      <td>29221</td>\n",
       "      <td>9/1/2004</td>\n",
       "      <td>Scholastic Inc.</td>\n",
       "    </tr>\n",
       "    <tr>\n",
       "      <th>2</th>\n",
       "      <td>4</td>\n",
       "      <td>Harry Potter and the Chamber of Secrets (Harry...</td>\n",
       "      <td>J.K. Rowling</td>\n",
       "      <td>4.42</td>\n",
       "      <td>439554896</td>\n",
       "      <td>9780439554893</td>\n",
       "      <td>eng</td>\n",
       "      <td>352</td>\n",
       "      <td>6333</td>\n",
       "      <td>244</td>\n",
       "      <td>11/1/2003</td>\n",
       "      <td>Scholastic</td>\n",
       "    </tr>\n",
       "    <tr>\n",
       "      <th>3</th>\n",
       "      <td>5</td>\n",
       "      <td>Harry Potter and the Prisoner of Azkaban (Harr...</td>\n",
       "      <td>J.K. Rowling/Mary GrandPré</td>\n",
       "      <td>4.56</td>\n",
       "      <td>043965548X</td>\n",
       "      <td>9780439655484</td>\n",
       "      <td>eng</td>\n",
       "      <td>435</td>\n",
       "      <td>2339585</td>\n",
       "      <td>36325</td>\n",
       "      <td>5/1/2004</td>\n",
       "      <td>Scholastic Inc.</td>\n",
       "    </tr>\n",
       "    <tr>\n",
       "      <th>4</th>\n",
       "      <td>8</td>\n",
       "      <td>Harry Potter Boxed Set  Books 1-5 (Harry Potte...</td>\n",
       "      <td>J.K. Rowling/Mary GrandPré</td>\n",
       "      <td>4.78</td>\n",
       "      <td>439682584</td>\n",
       "      <td>9780439682589</td>\n",
       "      <td>eng</td>\n",
       "      <td>2690</td>\n",
       "      <td>41428</td>\n",
       "      <td>164</td>\n",
       "      <td>9/13/2004</td>\n",
       "      <td>Scholastic</td>\n",
       "    </tr>\n",
       "    <tr>\n",
       "      <th>5</th>\n",
       "      <td>9</td>\n",
       "      <td>Unauthorized Harry Potter Book Seven News: \"Ha...</td>\n",
       "      <td>W. Frederick Zimmerman</td>\n",
       "      <td>3.74</td>\n",
       "      <td>976540606</td>\n",
       "      <td>9780976540601</td>\n",
       "      <td>en-US</td>\n",
       "      <td>152</td>\n",
       "      <td>19</td>\n",
       "      <td>1</td>\n",
       "      <td>4/26/2005</td>\n",
       "      <td>Nimble Books</td>\n",
       "    </tr>\n",
       "    <tr>\n",
       "      <th>6</th>\n",
       "      <td>10</td>\n",
       "      <td>Harry Potter Collection (Harry Potter  #1-6)</td>\n",
       "      <td>J.K. Rowling</td>\n",
       "      <td>4.73</td>\n",
       "      <td>439827604</td>\n",
       "      <td>9780439827607</td>\n",
       "      <td>eng</td>\n",
       "      <td>3342</td>\n",
       "      <td>28242</td>\n",
       "      <td>808</td>\n",
       "      <td>9/12/2005</td>\n",
       "      <td>Scholastic</td>\n",
       "    </tr>\n",
       "    <tr>\n",
       "      <th>7</th>\n",
       "      <td>12</td>\n",
       "      <td>The Ultimate Hitchhiker's Guide: Five Complete...</td>\n",
       "      <td>Douglas Adams</td>\n",
       "      <td>4.38</td>\n",
       "      <td>517226952</td>\n",
       "      <td>9780517226957</td>\n",
       "      <td>eng</td>\n",
       "      <td>815</td>\n",
       "      <td>3628</td>\n",
       "      <td>254</td>\n",
       "      <td>11/1/2005</td>\n",
       "      <td>Gramercy Books</td>\n",
       "    </tr>\n",
       "    <tr>\n",
       "      <th>8</th>\n",
       "      <td>13</td>\n",
       "      <td>The Ultimate Hitchhiker's Guide to the Galaxy ...</td>\n",
       "      <td>Douglas Adams</td>\n",
       "      <td>4.38</td>\n",
       "      <td>345453743</td>\n",
       "      <td>9780345453747</td>\n",
       "      <td>eng</td>\n",
       "      <td>815</td>\n",
       "      <td>249558</td>\n",
       "      <td>4080</td>\n",
       "      <td>4/30/2002</td>\n",
       "      <td>Del Rey Books</td>\n",
       "    </tr>\n",
       "    <tr>\n",
       "      <th>9</th>\n",
       "      <td>14</td>\n",
       "      <td>The Hitchhiker's Guide to the Galaxy (Hitchhik...</td>\n",
       "      <td>Douglas Adams</td>\n",
       "      <td>4.22</td>\n",
       "      <td>1400052920</td>\n",
       "      <td>9781400052929</td>\n",
       "      <td>eng</td>\n",
       "      <td>215</td>\n",
       "      <td>4930</td>\n",
       "      <td>460</td>\n",
       "      <td>8/3/2004</td>\n",
       "      <td>Crown</td>\n",
       "    </tr>\n",
       "  </tbody>\n",
       "</table>\n",
       "</div>"
      ],
      "text/plain": [
       "   bookID                                              title  \\\n",
       "0       1  Harry Potter and the Half-Blood Prince (Harry ...   \n",
       "1       2  Harry Potter and the Order of the Phoenix (Har...   \n",
       "2       4  Harry Potter and the Chamber of Secrets (Harry...   \n",
       "3       5  Harry Potter and the Prisoner of Azkaban (Harr...   \n",
       "4       8  Harry Potter Boxed Set  Books 1-5 (Harry Potte...   \n",
       "5       9  Unauthorized Harry Potter Book Seven News: \"Ha...   \n",
       "6      10       Harry Potter Collection (Harry Potter  #1-6)   \n",
       "7      12  The Ultimate Hitchhiker's Guide: Five Complete...   \n",
       "8      13  The Ultimate Hitchhiker's Guide to the Galaxy ...   \n",
       "9      14  The Hitchhiker's Guide to the Galaxy (Hitchhik...   \n",
       "\n",
       "                      authors  average_rating        isbn         isbn13  \\\n",
       "0  J.K. Rowling/Mary GrandPré            4.57   439785960  9780439785969   \n",
       "1  J.K. Rowling/Mary GrandPré            4.49   439358078  9780439358071   \n",
       "2                J.K. Rowling            4.42   439554896  9780439554893   \n",
       "3  J.K. Rowling/Mary GrandPré            4.56  043965548X  9780439655484   \n",
       "4  J.K. Rowling/Mary GrandPré            4.78   439682584  9780439682589   \n",
       "5      W. Frederick Zimmerman            3.74   976540606  9780976540601   \n",
       "6                J.K. Rowling            4.73   439827604  9780439827607   \n",
       "7               Douglas Adams            4.38   517226952  9780517226957   \n",
       "8               Douglas Adams            4.38   345453743  9780345453747   \n",
       "9               Douglas Adams            4.22  1400052920  9781400052929   \n",
       "\n",
       "  language_code  num_pages  ratings_count  text_reviews_count  \\\n",
       "0           eng        652        2095690               27591   \n",
       "1           eng        870        2153167               29221   \n",
       "2           eng        352           6333                 244   \n",
       "3           eng        435        2339585               36325   \n",
       "4           eng       2690          41428                 164   \n",
       "5         en-US        152             19                   1   \n",
       "6           eng       3342          28242                 808   \n",
       "7           eng        815           3628                 254   \n",
       "8           eng        815         249558                4080   \n",
       "9           eng        215           4930                 460   \n",
       "\n",
       "  publication_date        publisher  \n",
       "0        9/16/2006  Scholastic Inc.  \n",
       "1         9/1/2004  Scholastic Inc.  \n",
       "2        11/1/2003       Scholastic  \n",
       "3         5/1/2004  Scholastic Inc.  \n",
       "4        9/13/2004       Scholastic  \n",
       "5        4/26/2005     Nimble Books  \n",
       "6        9/12/2005       Scholastic  \n",
       "7        11/1/2005   Gramercy Books  \n",
       "8        4/30/2002    Del Rey Books  \n",
       "9         8/3/2004            Crown  "
      ]
     },
     "execution_count": 74,
     "metadata": {},
     "output_type": "execute_result"
    }
   ],
   "source": [
    "df = pd.read_csv(\"books3.csv\", encoding=\"utf-8-sig\")\n",
    "df.head(10)"
   ]
  },
  {
   "cell_type": "markdown",
   "metadata": {},
   "source": [
    "As we will be trying to develop a model to predict the average ratings scores for books, and because those scores can have non-integer values, our dependent values will be of the continuous nature.\n",
    "Lets select some features that we want to use for regression."
   ]
  },
  {
   "cell_type": "code",
   "execution_count": 75,
   "metadata": {
    "button": false,
    "new_sheet": false,
    "run_control": {
     "read_only": false
    }
   },
   "outputs": [
    {
     "data": {
      "text/html": [
       "<div>\n",
       "<style scoped>\n",
       "    .dataframe tbody tr th:only-of-type {\n",
       "        vertical-align: middle;\n",
       "    }\n",
       "\n",
       "    .dataframe tbody tr th {\n",
       "        vertical-align: top;\n",
       "    }\n",
       "\n",
       "    .dataframe thead th {\n",
       "        text-align: right;\n",
       "    }\n",
       "</style>\n",
       "<table border=\"1\" class=\"dataframe\">\n",
       "  <thead>\n",
       "    <tr style=\"text-align: right;\">\n",
       "      <th></th>\n",
       "      <th>num_pages</th>\n",
       "      <th>ratings_count</th>\n",
       "      <th>text_reviews_count</th>\n",
       "      <th>average_rating</th>\n",
       "    </tr>\n",
       "  </thead>\n",
       "  <tbody>\n",
       "    <tr>\n",
       "      <th>0</th>\n",
       "      <td>652</td>\n",
       "      <td>2095690</td>\n",
       "      <td>27591</td>\n",
       "      <td>4.57</td>\n",
       "    </tr>\n",
       "    <tr>\n",
       "      <th>1</th>\n",
       "      <td>870</td>\n",
       "      <td>2153167</td>\n",
       "      <td>29221</td>\n",
       "      <td>4.49</td>\n",
       "    </tr>\n",
       "    <tr>\n",
       "      <th>2</th>\n",
       "      <td>352</td>\n",
       "      <td>6333</td>\n",
       "      <td>244</td>\n",
       "      <td>4.42</td>\n",
       "    </tr>\n",
       "    <tr>\n",
       "      <th>3</th>\n",
       "      <td>435</td>\n",
       "      <td>2339585</td>\n",
       "      <td>36325</td>\n",
       "      <td>4.56</td>\n",
       "    </tr>\n",
       "    <tr>\n",
       "      <th>4</th>\n",
       "      <td>2690</td>\n",
       "      <td>41428</td>\n",
       "      <td>164</td>\n",
       "      <td>4.78</td>\n",
       "    </tr>\n",
       "    <tr>\n",
       "      <th>5</th>\n",
       "      <td>152</td>\n",
       "      <td>19</td>\n",
       "      <td>1</td>\n",
       "      <td>3.74</td>\n",
       "    </tr>\n",
       "    <tr>\n",
       "      <th>6</th>\n",
       "      <td>3342</td>\n",
       "      <td>28242</td>\n",
       "      <td>808</td>\n",
       "      <td>4.73</td>\n",
       "    </tr>\n",
       "    <tr>\n",
       "      <th>7</th>\n",
       "      <td>815</td>\n",
       "      <td>3628</td>\n",
       "      <td>254</td>\n",
       "      <td>4.38</td>\n",
       "    </tr>\n",
       "    <tr>\n",
       "      <th>8</th>\n",
       "      <td>815</td>\n",
       "      <td>249558</td>\n",
       "      <td>4080</td>\n",
       "      <td>4.38</td>\n",
       "    </tr>\n",
       "    <tr>\n",
       "      <th>9</th>\n",
       "      <td>215</td>\n",
       "      <td>4930</td>\n",
       "      <td>460</td>\n",
       "      <td>4.22</td>\n",
       "    </tr>\n",
       "  </tbody>\n",
       "</table>\n",
       "</div>"
      ],
      "text/plain": [
       "   num_pages  ratings_count  text_reviews_count  average_rating\n",
       "0        652        2095690               27591            4.57\n",
       "1        870        2153167               29221            4.49\n",
       "2        352           6333                 244            4.42\n",
       "3        435        2339585               36325            4.56\n",
       "4       2690          41428                 164            4.78\n",
       "5        152             19                   1            3.74\n",
       "6       3342          28242                 808            4.73\n",
       "7        815           3628                 254            4.38\n",
       "8        815         249558                4080            4.38\n",
       "9        215           4930                 460            4.22"
      ]
     },
     "execution_count": 75,
     "metadata": {},
     "output_type": "execute_result"
    }
   ],
   "source": [
    "cdf = df[['num_pages', 'ratings_count', 'text_reviews_count', 'average_rating']]\n",
    "# print(len(cdf))\n",
    "cdf.head(10)"
   ]
  },
  {
   "cell_type": "markdown",
   "metadata": {},
   "source": [
    "Lets we check if there is a linear correlationn between the independent and dependent daata - 'num_pages' and 'average_rating', 'ratings_count' and 'average_rating', 'text_reviews_count' and 'average_rating':\n"
   ]
  },
  {
   "cell_type": "code",
   "execution_count": 76,
   "metadata": {
    "button": false,
    "new_sheet": false,
    "run_control": {
     "read_only": false
    },
    "scrolled": true
   },
   "outputs": [
    {
     "data": {
      "image/png": "[encoded data removed]",
      "text/plain": [
       "<Figure size 432x288 with 1 Axes>"
      ]
     },
     "metadata": {
      "needs_background": "light"
     },
     "output_type": "display_data"
    }
   ],
   "source": [
    "plt.scatter(cdf.num_pages, cdf.average_rating,  color='green')\n",
    "plt.xlabel(\"Number of pages\")\n",
    "plt.ylabel(\"Average rating\")\n",
    "plt.show()"
   ]
  },
  {
   "cell_type": "code",
   "execution_count": 77,
   "metadata": {},
   "outputs": [
    {
     "data": {
      "image/png": "[encoded data removed]",
      "text/plain": [
       "<Figure size 432x288 with 1 Axes>"
      ]
     },
     "metadata": {
      "needs_background": "light"
     },
     "output_type": "display_data"
    }
   ],
   "source": [
    "plt.scatter(cdf.ratings_count, cdf.average_rating,  color='blue')\n",
    "plt.xlabel(\"Ratings count\")\n",
    "plt.ylabel(\"Average rating\")\n",
    "plt.show()"
   ]
  },
  {
   "cell_type": "code",
   "execution_count": 78,
   "metadata": {},
   "outputs": [
    {
     "data": {
      "image/png": "[encoded data removed]",
      "text/plain": [
       "<Figure size 432x288 with 1 Axes>"
      ]
     },
     "metadata": {
      "needs_background": "light"
     },
     "output_type": "display_data"
    }
   ],
   "source": [
    "plt.scatter(cdf.text_reviews_count, cdf.average_rating,  color='red')\n",
    "plt.xlabel(\"Text reviews count\")\n",
    "plt.ylabel(\"Average rating\")\n",
    "plt.show()"
   ]
  },
  {
   "cell_type": "markdown",
   "metadata": {},
   "source": [
    "Splitting data into 'features' set and 'targets' set and setting the sizes of the train, test and evaluation sets."
   ]
  },
  {
   "cell_type": "code",
   "execution_count": 79,
   "metadata": {
    "button": false,
    "new_sheet": false,
    "run_control": {
     "read_only": false
    }
   },
   "outputs": [],
   "source": [
    "features = cdf.drop(['average_rating'], axis = 1)\n",
    "targets = cdf.iloc[:, -1]\n",
    "train_size = int(math.ceil(.8 * len(cdf))) # 80% of dataset for training; '-1' because of teh use of the 'ceil' method below\n",
    "val_size = int(math.ceil(.1 * len(cdf)))  # 10% for validation\n",
    "test_size = int(math.floor((.1 * len(cdf)))) # 10% for testing"
   ]
  },
  {
   "cell_type": "markdown",
   "metadata": {},
   "source": [
    "Spliting data according to the sizes."
   ]
  },
  {
   "cell_type": "code",
   "execution_count": 80,
   "metadata": {},
   "outputs": [],
   "source": [
    "dataset = TensorDataset(torch.Tensor(np.array(features)).float(), torch.Tensor(targets).long()) # numpy arrays to torch tensors\n",
    "train_ds, val_ds, test_ds = random_split(dataset, [train_size, val_size, test_size])"
   ]
  },
  {
   "cell_type": "markdown",
   "metadata": {
    "button": false,
    "new_sheet": false,
    "run_control": {
     "read_only": false
    }
   },
   "source": [
    "Setting the batch size and preparing data loaders."
   ]
  },
  {
   "cell_type": "code",
   "execution_count": 81,
   "metadata": {},
   "outputs": [],
   "source": [
    "batch_size = 100\n",
    "train_loader = DataLoader(train_ds, batch_size, shuffle = True)\n",
    "val_loader = DataLoader(val_ds, batch_size, shuffle = True)\n",
    "test_loader = DataLoader(test_ds, batch_size, shuffle = True)"
   ]
  },
  {
   "cell_type": "code",
   "execution_count": 82,
   "metadata": {},
   "outputs": [],
   "source": [
    "input_size = len(cdf.columns) - 1\n",
    "# print(input_size)\n",
    "output_size = len(targets.unique())\n",
    "# print(output_size)\n",
    "# threshold = .5"
   ]
  },
  {
   "cell_type": "markdown",
   "metadata": {},
   "source": [
    "Declaring the model calss."
   ]
  },
  {
   "cell_type": "code",
   "execution_count": 83,
   "metadata": {},
   "outputs": [],
   "source": [
    "class BooksModel(nn.Module):\n",
    "\n",
    "    def __init__(self, in_size, out_size):\n",
    "        super().__init__()\n",
    "        self.linear1 = nn.Linear(in_size, 80)\n",
    "        self.linear2 = nn.Linear(80, 150)\n",
    "        self.linear3 = nn.Linear(150, out_size)\n",
    "\n",
    "    def forward(self, xb):\n",
    "        out = self.linear1(xb)\n",
    "        out = F.relu(out)\n",
    "        out = self.linear2(out)\n",
    "        out = F.relu(out)\n",
    "        out = self.linear3(out)\n",
    "        return out\n",
    "    \n",
    "    \"\"\"\n",
    "     def training_step(self, batch):\n",
    "        images, labels = batch \n",
    "        out = self(images)\n",
    "        loss = criterion(out, labels)\n",
    "        return loss\n",
    "    \n",
    "    def validation_step(self, batch):\n",
    "        images, labels = batch \n",
    "        out = self(images)\n",
    "        loss = criterion(out, labels)\n",
    "        acc = accuracy(out, labels)\n",
    "        return {'val_loss': loss, 'val_acc': acc}\n",
    "        \n",
    "    def validation_epoch_end(self, outputs):\n",
    "        batch_losses = [x['val_loss'] for x in outputs]\n",
    "        epoch_loss = torch.stack(batch_losses).mean()\n",
    "        batch_accs = [x['val_acc'] for x in outputs]\n",
    "        epoch_acc = torch.stack(batch_accs).mean()\n",
    "        return {'val_loss': epoch_loss.item(), 'val_acc': epoch_acc.item()}\n",
    "    \n",
    "    def epoch_end(self, epoch, result):\n",
    "        print(\"Epoch [{}], val_loss: {:.3f}, val_acc: {:.3f}\".format(epoch, result['val_loss'], result['val_acc']))\n",
    "    \"\"\""
   ]
  },
  {
   "cell_type": "markdown",
   "metadata": {},
   "source": [
    "Accuracy method:"
   ]
  },
  {
   "cell_type": "code",
   "execution_count": 84,
   "metadata": {},
   "outputs": [],
   "source": [
    "def accuracy(outputs, labels):\n",
    "    _, preds = torch.max(outputs, dim=1)\n",
    "    return torch.tensor(torch.sum(preds == labels).item() / len(preds))"
   ]
  },
  {
   "cell_type": "markdown",
   "metadata": {},
   "source": [
    "Model initiation."
   ]
  },
  {
   "cell_type": "code",
   "execution_count": 85,
   "metadata": {},
   "outputs": [],
   "source": [
    "model = BooksModel(input_size, output_size)"
   ]
  },
  {
   "cell_type": "markdown",
   "metadata": {},
   "source": [
    "Training. First - calculating number of epochs."
   ]
  },
  {
   "cell_type": "code",
   "execution_count": 86,
   "metadata": {},
   "outputs": [
    {
     "name": "stdout",
     "output_type": "stream",
     "text": [
      "num_epochs: 80\n"
     ]
    }
   ],
   "source": [
    "n_iters = 640\n",
    "num_epochs = n_iters / (len(train_ds) / batch_size)\n",
    "num_epochs = int(num_epochs)\n",
    "print('num_epochs:', num_epochs)"
   ]
  },
  {
   "cell_type": "code",
   "execution_count": 87,
   "metadata": {},
   "outputs": [],
   "source": [
    "criterion = nn.CrossEntropyLoss()\n",
    "optimizer = torch.optim.SGD(model.parameters(), lr=0.01)"
   ]
  },
  {
   "cell_type": "markdown",
   "metadata": {},
   "source": [
    "Process of training:"
   ]
  },
  {
   "cell_type": "code",
   "execution_count": 88,
   "metadata": {},
   "outputs": [
    {
     "data": {
      "text/plain": [
       "['accuracy: 0.6000000238418579 , number of epoch; 0',\n",
       " 'accuracy: 0.5400000214576721 , number of epoch; 1',\n",
       " 'accuracy: 0.47999998927116394 , number of epoch; 2',\n",
       " 'accuracy: 0.5400000214576721 , number of epoch; 3',\n",
       " 'accuracy: 0.5799999833106995 , number of epoch; 4',\n",
       " 'accuracy: 0.5099999904632568 , number of epoch; 5',\n",
       " 'accuracy: 0.5899999737739563 , number of epoch; 6',\n",
       " 'accuracy: 0.5899999737739563 , number of epoch; 7',\n",
       " 'accuracy: 0.5799999833106995 , number of epoch; 8',\n",
       " 'accuracy: 0.5400000214576721 , number of epoch; 9',\n",
       " 'accuracy: 0.5199999809265137 , number of epoch; 10',\n",
       " 'accuracy: 0.5199999809265137 , number of epoch; 11',\n",
       " 'accuracy: 0.6499999761581421 , number of epoch; 12',\n",
       " 'accuracy: 0.5699999928474426 , number of epoch; 13',\n",
       " 'accuracy: 0.5 , number of epoch; 14',\n",
       " 'accuracy: 0.5 , number of epoch; 15',\n",
       " 'accuracy: 0.5099999904632568 , number of epoch; 16',\n",
       " 'accuracy: 0.5099999904632568 , number of epoch; 17',\n",
       " 'accuracy: 0.6100000143051147 , number of epoch; 18',\n",
       " 'accuracy: 0.5899999737739563 , number of epoch; 19',\n",
       " 'accuracy: 0.5899999737739563 , number of epoch; 20',\n",
       " 'accuracy: 0.5299999713897705 , number of epoch; 21',\n",
       " 'accuracy: 0.6000000238418579 , number of epoch; 22',\n",
       " 'accuracy: 0.5199999809265137 , number of epoch; 23',\n",
       " 'accuracy: 0.5600000023841858 , number of epoch; 24',\n",
       " 'accuracy: 0.5400000214576721 , number of epoch; 25',\n",
       " 'accuracy: 0.49000000953674316 , number of epoch; 26',\n",
       " 'accuracy: 0.5099999904632568 , number of epoch; 27',\n",
       " 'accuracy: 0.44999998807907104 , number of epoch; 28',\n",
       " 'accuracy: 0.5600000023841858 , number of epoch; 29',\n",
       " 'accuracy: 0.5099999904632568 , number of epoch; 30',\n",
       " 'accuracy: 0.5699999928474426 , number of epoch; 31',\n",
       " 'accuracy: 0.6299999952316284 , number of epoch; 32',\n",
       " 'accuracy: 0.5600000023841858 , number of epoch; 33',\n",
       " 'accuracy: 0.5 , number of epoch; 34',\n",
       " 'accuracy: 0.6200000047683716 , number of epoch; 35',\n",
       " 'accuracy: 0.6000000238418579 , number of epoch; 36',\n",
       " 'accuracy: 0.5400000214576721 , number of epoch; 37',\n",
       " 'accuracy: 0.4699999988079071 , number of epoch; 38',\n",
       " 'accuracy: 0.6200000047683716 , number of epoch; 39',\n",
       " 'accuracy: 0.5099999904632568 , number of epoch; 40',\n",
       " 'accuracy: 0.6100000143051147 , number of epoch; 41',\n",
       " 'accuracy: 0.5400000214576721 , number of epoch; 42',\n",
       " 'accuracy: 0.550000011920929 , number of epoch; 43',\n",
       " 'accuracy: 0.6000000238418579 , number of epoch; 44',\n",
       " 'accuracy: 0.5799999833106995 , number of epoch; 45',\n",
       " 'accuracy: 0.5099999904632568 , number of epoch; 46',\n",
       " 'accuracy: 0.5299999713897705 , number of epoch; 47',\n",
       " 'accuracy: 0.5600000023841858 , number of epoch; 48',\n",
       " 'accuracy: 0.5799999833106995 , number of epoch; 49',\n",
       " 'accuracy: 0.550000011920929 , number of epoch; 50',\n",
       " 'accuracy: 0.6000000238418579 , number of epoch; 51',\n",
       " 'accuracy: 0.5699999928474426 , number of epoch; 52',\n",
       " 'accuracy: 0.47999998927116394 , number of epoch; 53',\n",
       " 'accuracy: 0.5400000214576721 , number of epoch; 54',\n",
       " 'accuracy: 0.4300000071525574 , number of epoch; 55',\n",
       " 'accuracy: 0.5699999928474426 , number of epoch; 56',\n",
       " 'accuracy: 0.5199999809265137 , number of epoch; 57',\n",
       " 'accuracy: 0.6000000238418579 , number of epoch; 58',\n",
       " 'accuracy: 0.47999998927116394 , number of epoch; 59',\n",
       " 'accuracy: 0.5899999737739563 , number of epoch; 60',\n",
       " 'accuracy: 0.6200000047683716 , number of epoch; 61',\n",
       " 'accuracy: 0.5299999713897705 , number of epoch; 62',\n",
       " 'accuracy: 0.5199999809265137 , number of epoch; 63',\n",
       " 'accuracy: 0.5699999928474426 , number of epoch; 64',\n",
       " 'accuracy: 0.5400000214576721 , number of epoch; 65',\n",
       " 'accuracy: 0.6100000143051147 , number of epoch; 66',\n",
       " 'accuracy: 0.5899999737739563 , number of epoch; 67',\n",
       " 'accuracy: 0.4300000071525574 , number of epoch; 68',\n",
       " 'accuracy: 0.5099999904632568 , number of epoch; 69',\n",
       " 'accuracy: 0.5299999713897705 , number of epoch; 70',\n",
       " 'accuracy: 0.4699999988079071 , number of epoch; 71',\n",
       " 'accuracy: 0.5400000214576721 , number of epoch; 72',\n",
       " 'accuracy: 0.5400000214576721 , number of epoch; 73',\n",
       " 'accuracy: 0.4699999988079071 , number of epoch; 74',\n",
       " 'accuracy: 0.5699999928474426 , number of epoch; 75',\n",
       " 'accuracy: 0.5899999737739563 , number of epoch; 76',\n",
       " 'accuracy: 0.6100000143051147 , number of epoch; 77',\n",
       " 'accuracy: 0.5600000023841858 , number of epoch; 78',\n",
       " 'accuracy: 0.550000011920929 , number of epoch; 79']"
      ]
     },
     "execution_count": 88,
     "metadata": {},
     "output_type": "execute_result"
    }
   ],
   "source": [
    "\n",
    "def fit(num_epochs, model, loss_fn, opt_fn, train_dl, val_dl):\n",
    "    history = []\n",
    "    for epoch in range(num_epochs):\n",
    "        for xb,yb in train_dl:\n",
    "            pred = model(xb)\n",
    "            loss = loss_fn(pred, yb)\n",
    "            loss.backward()\n",
    "            opt_fn.step()\n",
    "            opt_fn.zero_grad()\n",
    "        accu = accuracy(pred, yb)\n",
    "        history.append(f'accuracy: {accu} , number of epoch; {epoch}')\n",
    "    return history\n",
    "\"\"\"\n",
    "def fit(epochs, model, loss_fn, opt_fn, train_dl, val_dl, ):\n",
    "    history = []\n",
    "    for epoch in range(epochs):\n",
    "        for batch in train_dl:\n",
    "            loss = model.training_step(batch)\n",
    "            loss.backward()\n",
    "            opt_fn.step()\n",
    "            opt_fn.zero_grad()\n",
    "        result = evaluate(model, val_dl)\n",
    "        model.epoch_end(epoch, result)\n",
    "        history.append(result)\n",
    "    return history\n",
    "\"\"\"\n",
    "\n",
    "fit(num_epochs, model, criterion, optimizer, train_loader, val_loader)"
   ]
  },
  {
   "cell_type": "code",
   "execution_count": 89,
   "metadata": {},
   "outputs": [],
   "source": [
    "def predict(features, model):\n",
    "  with torch.no_grad():\n",
    "    y_pred = model(features)\n",
    "    y_pred = F.softmax(y_pred.unsqueeze(0), dim=1)\n",
    "    # print(y_pred)\n",
    "    _, preds = torch.max(y_pred, 1)\n",
    "    # print(preds)\n",
    "    return preds[0]\n",
    "    # return y_pred[0]"
   ]
  },
  {
   "cell_type": "code",
   "execution_count": 90,
   "metadata": {},
   "outputs": [
    {
     "name": "stdout",
     "output_type": "stream",
     "text": [
      "actual rating value: 4, prediction: 3\n",
      "features for that prediction: tensor([4.3500e+02, 2.3396e+06, 3.6325e+04])\n"
     ]
    }
   ],
   "source": [
    "x, y = dataset[3]\n",
    "print(f'actual rating value: {y}, prediction: {predict(x, model)}')\n",
    "print(f'features for that prediction: {x}')"
   ]
  }
 ],
 "metadata": {
  "kernelspec": {
   "display_name": "Python 3",
   "language": "python",
   "name": "python3"
  },
  "language_info": {
   "codemirror_mode": {
    "name": "ipython",
    "version": 3
   },
   "file_extension": ".py",
   "mimetype": "text/x-python",
   "name": "python",
   "nbconvert_exporter": "python",
   "pygments_lexer": "ipython3",
   "version": "3.8.6"
  },
  "widgets": {
   "state": {},
   "version": "1.1.2"
  }
 },
 "nbformat": 4,
 "nbformat_minor": 2
}
